{
 "cells": [
  {
   "cell_type": "code",
   "execution_count": null,
   "id": "350c39ce",
   "metadata": {},
   "outputs": [],
   "source": [
    "print('Hello,world!')\n"
   ]
  }
 ],
 "metadata": {
  "kernelspec": {
   "display_name": "Python 3",
   "language": "python",
   "name": "python3"
  },
  "language_info": {
   "name": "python",
   "version": "3.11.9"
  }
 },
 "nbformat": 4,
 "nbformat_minor": 5
}
