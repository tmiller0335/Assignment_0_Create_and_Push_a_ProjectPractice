{
 "cells": [
  {
   "cell_type": "code",
   "execution_count": 6,
   "id": "350c39ce",
   "metadata": {},
   "outputs": [
    {
     "name": "stdout",
     "output_type": "stream",
     "text": [
      "Hello,world!\n"
     ]
    }
   ],
   "source": [
    "print('Hello,world!')\n"
   ]
  },
  {
   "cell_type": "code",
   "execution_count": 7,
   "id": "fc80cb70",
   "metadata": {},
   "outputs": [
    {
     "name": "stdout",
     "output_type": "stream",
     "text": [
      "My name is Taylor Tackett, and Im currently a Store Manager for Barnes & Noble College. I run the Jefferson Community and Technical College campus bookstore in Louisville Ky, and have been with BN for 8 years in December. Data analysis caught my interest a couple of years, and where we use a lot of reporting at work Im very interested in being able to apply python and SQL to manipulate and pull information from reporting.In my free time, I like to watch movies and tv shows, listen to music and attend concerts, and play video games.Two years ago I decided to enroll in figure skating lessons, and I have consistently stayed with it.Last November I participated in my first Figure Skating Competition and came in first place! Im married to my high school sweetheart, and we have two small dogs. Lady aka Ladybug is a 10 year old yorkie dachshund mix, and Coco is a 1.5 year old yorkie maltese mix.\n"
     ]
    }
   ],
   "source": [
    "print(\n",
    "    'My name is Taylor Tackett, and Im currently a Store Manager for Barnes & Noble College. I run the Jefferson Community and Technical College campus bookstore in Louisville Ky, and have been with BN for 8 years in December. Data analysis caught my interest a couple of years, and where we use a lot of reporting at work Im very interested in being able to apply python and SQL to manipulate and pull information from reporting.In my free time, I like to watch movies and tv shows, listen to music and attend concerts, and play video games.Two years ago I decided to enroll in figure skating lessons, and I have consistently stayed with it.Last November I participated in my first Figure Skating Competition and came in first place! Im married to my high school sweetheart, and we have two small dogs. Lady aka Ladybug is a 10 year old yorkie dachshund mix, and Coco is a 1.5 year old yorkie maltese mix.'\n",
    "    )"
   ]
  }
 ],
 "metadata": {
  "kernelspec": {
   "display_name": "Python 3",
   "language": "python",
   "name": "python3"
  },
  "language_info": {
   "codemirror_mode": {
    "name": "ipython",
    "version": 3
   },
   "file_extension": ".py",
   "mimetype": "text/x-python",
   "name": "python",
   "nbconvert_exporter": "python",
   "pygments_lexer": "ipython3",
   "version": "3.11.9"
  }
 },
 "nbformat": 4,
 "nbformat_minor": 5
}
